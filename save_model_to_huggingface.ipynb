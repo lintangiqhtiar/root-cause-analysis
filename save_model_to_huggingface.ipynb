{
 "cells": [
  {
   "cell_type": "code",
   "execution_count": 1,
   "id": "edaf2fd2",
   "metadata": {},
   "outputs": [
    {
     "name": "stdout",
     "output_type": "stream",
     "text": [
      "Requirement already satisfied: huggingface-hub in .\\myenv\\lib\\site-packages (0.29.2)Note: you may need to restart the kernel to use updated packages.\n",
      "\n",
      "Requirement already satisfied: pyyaml>=5.1 in .\\myenv\\lib\\site-packages (from huggingface-hub) (6.0.2)\n",
      "Requirement already satisfied: tqdm>=4.42.1 in .\\myenv\\lib\\site-packages (from huggingface-hub) (4.67.1)\n",
      "Requirement already satisfied: requests in .\\myenv\\lib\\site-packages (from huggingface-hub) (2.32.3)\n",
      "Requirement already satisfied: fsspec>=2023.5.0 in .\\myenv\\lib\\site-packages (from huggingface-hub) (2025.2.0)\n",
      "Requirement already satisfied: typing-extensions>=3.7.4.3 in .\\myenv\\lib\\site-packages (from huggingface-hub) (4.12.2)\n",
      "Requirement already satisfied: filelock in .\\myenv\\lib\\site-packages (from huggingface-hub) (3.17.0)\n",
      "Requirement already satisfied: packaging>=20.9 in .\\myenv\\lib\\site-packages (from huggingface-hub) (24.2)\n",
      "Requirement already satisfied: colorama in .\\myenv\\lib\\site-packages (from tqdm>=4.42.1->huggingface-hub) (0.4.6)\n",
      "Requirement already satisfied: certifi>=2017.4.17 in .\\myenv\\lib\\site-packages (from requests->huggingface-hub) (2025.1.31)\n",
      "Requirement already satisfied: urllib3<3,>=1.21.1 in .\\myenv\\lib\\site-packages (from requests->huggingface-hub) (2.3.0)\n",
      "Requirement already satisfied: charset-normalizer<4,>=2 in .\\myenv\\lib\\site-packages (from requests->huggingface-hub) (3.4.1)\n",
      "Requirement already satisfied: idna<4,>=2.5 in .\\myenv\\lib\\site-packages (from requests->huggingface-hub) (3.10)\n"
     ]
    },
    {
     "name": "stderr",
     "output_type": "stream",
     "text": [
      "WARNING: You are using pip version 21.2.3; however, version 25.2 is available.\n",
      "You should consider upgrading via the 'd:\\glda\\myenv\\Scripts\\python.exe -m pip install --upgrade pip' command.\n"
     ]
    }
   ],
   "source": [
    "pip install huggingface-hub"
   ]
  },
  {
   "cell_type": "code",
   "execution_count": null,
   "id": "46ec0aaf",
   "metadata": {},
   "outputs": [
    {
     "name": "stderr",
     "output_type": "stream",
     "text": [
      "The token has not been saved to the git credentials helper. Pass `add_to_git_credential=True` in this function directly or `--add-to-git-credential` if using via `huggingface-cli` if you want to set the git credential as well.\n",
      "Token is valid (permission: write).\n",
      "The token `gpt-finetuned` has been saved to C:\\Users\\Thinkpad\\.cache\\huggingface\\stored_tokens\n",
      "Your token has been saved to C:\\Users\\Thinkpad\\.cache\\huggingface\\token\n",
      "Login successful.\n",
      "The current active token is: `gpt-finetuned`\n"
     ]
    }
   ],
   "source": [
    "!huggingface-cli login --token #write token here"
   ]
  },
  {
   "cell_type": "code",
   "execution_count": 6,
   "id": "6fea83bf",
   "metadata": {},
   "outputs": [
    {
     "data": {
      "text/plain": [
       "RepoUrl('https://huggingface.co/lintangiqhtiar/my-finetuned-model', endpoint='https://huggingface.co', repo_type='model', repo_id='lintangiqhtiar/my-finetuned-model')"
      ]
     },
     "execution_count": 6,
     "metadata": {},
     "output_type": "execute_result"
    }
   ],
   "source": [
    "from huggingface_hub import HfApi\n",
    "\n",
    "api = HfApi()\n",
    "api.create_repo(repo_id=\"my-finetuned-model\", repo_type=\"model\")\n"
   ]
  },
  {
   "cell_type": "code",
   "execution_count": 7,
   "id": "74e4534b",
   "metadata": {},
   "outputs": [
    {
     "name": "stderr",
     "output_type": "stream",
     "text": [
      "model.safetensors: 100%|██████████| 498M/498M [03:06<00:00, 2.66MB/s]  \n"
     ]
    },
    {
     "data": {
      "text/plain": [
       "CommitInfo(commit_url='https://huggingface.co/lintangiqhtiar/my-finetuned-model/commit/d4f62a9e1d3d5a703f786783e404545e84c00d82', commit_message='Upload folder using huggingface_hub', commit_description='', oid='d4f62a9e1d3d5a703f786783e404545e84c00d82', pr_url=None, repo_url=RepoUrl('https://huggingface.co/lintangiqhtiar/my-finetuned-model', endpoint='https://huggingface.co', repo_type='model', repo_id='lintangiqhtiar/my-finetuned-model'), pr_revision=None, pr_num=None)"
      ]
     },
     "execution_count": 7,
     "metadata": {},
     "output_type": "execute_result"
    }
   ],
   "source": [
    "from huggingface_hub import upload_folder\n",
    "\n",
    "upload_folder(\n",
    "    repo_id=\"lintangiqhtiar/my-finetuned-model\",  # ganti dengan username/repo kamu\n",
    "    folder_path=\"models/gpt2rev-aug20test\",       # folder lokal modelmu\n",
    "    path_in_repo=\"\",                       # taruh di root repo\n",
    ")"
   ]
  }
 ],
 "metadata": {
  "kernelspec": {
   "display_name": "myenv",
   "language": "python",
   "name": "python3"
  },
  "language_info": {
   "codemirror_mode": {
    "name": "ipython",
    "version": 3
   },
   "file_extension": ".py",
   "mimetype": "text/x-python",
   "name": "python",
   "nbconvert_exporter": "python",
   "pygments_lexer": "ipython3",
   "version": "3.10.0"
  }
 },
 "nbformat": 4,
 "nbformat_minor": 5
}
